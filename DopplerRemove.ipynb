{
 "cells": [
  {
   "cell_type": "code",
   "execution_count": null,
   "metadata": {},
   "outputs": [],
   "source": [
    "for fn in os.listdir(\"Data/Raw/\"):\n",
    "    img = cv2.imread(f'Data/Raw/{fn}')\n",
    "    \n",
    "    color = 0\n",
    "    doppler = False\n",
    "    for i in img:\n",
    "        if doppler:\n",
    "            break\n",
    "        for j in i:\n",
    "            r = int(j[0])\n",
    "            g = int(j[1])\n",
    "            b = int(j[2])\n",
    "            r_g = r - g \n",
    "            g_b = g - b \n",
    "            r_b = r - b\n",
    "            r_g_abs = abs(r_g)\n",
    "            g_b_abs = abs(g_b)\n",
    "            r_b_abs = abs(r_b)\n",
    "            \n",
    "            if( r_g_abs > 50 or g_b_abs> 50 or r_b_abs > 50):\n",
    "                print (r_g_abs , g_b_abs, r_b_abs)\n",
    "                \n",
    "                print (r, g, b)\n",
    "                print(\"It's a Doppler image\")\n",
    "                plt.imshow(img)\n",
    "                plt.show()\n",
    "                doppler = True\n",
    "                # do something with doppler\n",
    "                break\n",
    "                \n",
    "                \n",
    "    "
   ]
  },
  {
   "cell_type": "code",
   "execution_count": null,
   "metadata": {},
   "outputs": [],
   "source": [
    "for fn in os.listdir('Data/Doppler'):\n",
    "    name = fn.replace('.png', '')\n",
    "    os.system(f'mv CSVs/{name}.csv Data/Doppler')"
   ]
  }
 ],
 "metadata": {
  "kernelspec": {
   "display_name": "Python 3",
   "language": "python",
   "name": "python3"
  },
  "language_info": {
   "codemirror_mode": {
    "name": "ipython",
    "version": 3
   },
   "file_extension": ".py",
   "mimetype": "text/x-python",
   "name": "python",
   "nbconvert_exporter": "python",
   "pygments_lexer": "ipython3",
   "version": "3.7.3"
  }
 },
 "nbformat": 4,
 "nbformat_minor": 2
}
