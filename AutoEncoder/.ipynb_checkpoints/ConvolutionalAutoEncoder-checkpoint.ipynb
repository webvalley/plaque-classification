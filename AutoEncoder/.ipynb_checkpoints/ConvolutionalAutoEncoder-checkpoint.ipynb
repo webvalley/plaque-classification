{
 "cells": [
  {
   "cell_type": "code",
   "execution_count": 1,
   "metadata": {},
   "outputs": [
    {
     "name": "stderr",
     "output_type": "stream",
     "text": [
      "Using TensorFlow backend.\n"
     ]
    }
   ],
   "source": [
    "import os\n",
    "import glob\n",
    "\n",
    "import numpy as np \n",
    "import pandas as pd \n",
    "import matplotlib.pyplot as plt\n",
    "import cv2\n",
    "\n",
    "from keras.preprocessing import image\n",
    "from keras.models import Model\n",
    "from keras.optimizers import Adam, RMSprop\n",
    "from keras.callbacks import EarlyStopping\n",
    "from keras.layers import Input, Dense, Activation, BatchNormalization, Flatten, Conv2D\n",
    "from keras.layers import Input,Conv2D,MaxPooling2D,UpSampling2D\n",
    "from keras import backend as K\n",
    "\n",
    "os.environ[\"CUDA_VISIBLE_DEVICES\"]=\"1\" #model will be trained on GPU 1"
   ]
  },
  {
   "cell_type": "code",
   "execution_count": 29,
   "metadata": {},
   "outputs": [],
   "source": [
    "def load_image(path):\n",
    "    image_list = np.zeros((len(path), 28, 28, 1))\n",
    "    for i, fig in enumerate(path):\n",
    "        img = image.load_img(fig, color_mode='grayscale', target_size=(28, 28))\n",
    "        x = image.img_to_array(img).astype('float32')\n",
    "        x = x / 255.0\n",
    "        image_list[i] = x\n",
    "    \n",
    "    return image_list"
   ]
  },
  {
   "cell_type": "code",
   "execution_count": 30,
   "metadata": {},
   "outputs": [],
   "source": [
    "train_img = glob.glob(\"train/*.png\")\n",
    "test_img = glob.glob(\"dataset/Patches/Plaque/*.png\")\n",
    "\n",
    "y_train = []\n",
    "for img in train_img:\n",
    "    if \"Calcific\" in img:\n",
    "        y_train.append(0)\n",
    "    elif \"Fibrous\" in img:\n",
    "        y_train.append(1)\n",
    "\n",
    "x_train = load_image(train_img)\n",
    "\n",
    "y_test = []\n",
    "\n",
    "for img in test_img:\n",
    "    if \"Calcific\" in img:\n",
    "        y_test.append(0)\n",
    "    elif \"Fibrous\" in img:\n",
    "        y_test.append(1)\n",
    "        \n",
    "\n",
    "x_test = load_image(test_img) "
   ]
  },
  {
   "cell_type": "code",
   "execution_count": 32,
   "metadata": {},
   "outputs": [
    {
     "data": {
      "text/plain": [
       "(28, 28, 1)"
      ]
     },
     "execution_count": 32,
     "metadata": {},
     "output_type": "execute_result"
    }
   ],
   "source": [
    "x_train[0].shape"
   ]
  },
  {
   "cell_type": "code",
   "execution_count": 33,
   "metadata": {},
   "outputs": [],
   "source": [
    "from sklearn.model_selection import train_test_split\n",
    "x_train, x_val, y_train, y_val = train_test_split(x_train, x_train, test_size=0.2, random_state=13)"
   ]
  },
  {
   "cell_type": "code",
   "execution_count": 35,
   "metadata": {},
   "outputs": [
    {
     "data": {
      "text/plain": [
       "(28, 28, 1)"
      ]
     },
     "execution_count": 35,
     "metadata": {},
     "output_type": "execute_result"
    }
   ],
   "source": [
    "x_train[0].shape"
   ]
  },
  {
   "cell_type": "code",
   "execution_count": 6,
   "metadata": {},
   "outputs": [],
   "source": [
    "batch_size = 128\n",
    "epochs = 50\n",
    "inChannel = 1\n",
    "x, y = 28, 28\n",
    "input_img = Input(shape = (x, y, inChannel))\n",
    "#K.clear_session()"
   ]
  },
  {
   "cell_type": "code",
   "execution_count": 7,
   "metadata": {},
   "outputs": [
    {
     "name": "stdout",
     "output_type": "stream",
     "text": [
      "WARNING:tensorflow:From /home/webvalley/anaconda3/envs/plaque-img/lib/python3.7/site-packages/tensorflow/python/framework/op_def_library.py:263: colocate_with (from tensorflow.python.framework.ops) is deprecated and will be removed in a future version.\n",
      "Instructions for updating:\n",
      "Colocations handled automatically by placer.\n"
     ]
    },
    {
     "data": {
      "text/plain": [
       "\"\\n    #encoder\\n    #input = 28 x 28 x 1 (wide and thin)\\nconv1 = Conv2D(32, (3, 3), activation='relu', padding='same')(input_img) #28 x 28 x 32\\npool1 = MaxPooling2D(pool_size=(2, 2))(conv1) #14 x 14 x 32\\nconv2 = Conv2D(64, (3, 3), activation='relu', padding='same')(pool1) #14 x 14 x 64\\npool2 = MaxPooling2D(pool_size=(2, 2))(conv2) #7 x 7 x 64\\nconv3 = Conv2D(128, (3, 3), activation='relu', padding='same')(pool2) #7 x 7 x 128 (small and thick)\\nencoded = MaxPooling2D((2, 2), padding='same')(conv3)\\n\\n#decoder\\nconv4 = Conv2D(128, (3, 3), activation='relu', padding='same')(conv3) #7 x 7 x 128\\nup1 = UpSampling2D((2,2))(conv4) # 14 x 14 x 128\\nconv5 = Conv2D(64, (3, 3), activation='relu', padding='same')(up1) # 14 x 14 x 64\\nup2 = UpSampling2D((2,2))(conv5) # 28 x 28 x 64\\ndecoded = Conv2D(1, (3, 3), activation='sigmoid', padding='same')(up2) # 28 x 28 x 1\\n\""
      ]
     },
     "execution_count": 7,
     "metadata": {},
     "output_type": "execute_result"
    }
   ],
   "source": [
    "\n",
    "conv1 = Conv2D(16, (3, 3), activation='relu', padding='same')(input_img)\n",
    "pool1 = MaxPooling2D((2, 2), padding='same')(conv1)\n",
    "conv2 = Conv2D(8, (3, 3), activation='relu', padding='same')(pool1)\n",
    "pool2 = MaxPooling2D((2, 2), padding='same')(conv2)\n",
    "conv3 = Conv2D(8, (3, 3), activation='relu', padding='same')(pool2)\n",
    "encoded = MaxPooling2D((2, 2), padding='same')(conv3)\n",
    "\n",
    "\n",
    "conv4 = Conv2D(8, (3, 3), activation='relu', padding='same')(encoded)\n",
    "up1 = UpSampling2D((2, 2))(conv4)\n",
    "conv5 = Conv2D(8, (3, 3), activation='relu', padding='same')(up1)\n",
    "up2 = UpSampling2D((2, 2))(conv5)\n",
    "conv6 = Conv2D(16, (3, 3), activation='relu')(up2)\n",
    "up3 = UpSampling2D((2, 2))(conv6)\n",
    "decoded = Conv2D(1, (3, 3), activation='sigmoid', padding='same')(up3)\n",
    "\n",
    "\n",
    "\n",
    "\"\"\"\n",
    "    #encoder\n",
    "    #input = 28 x 28 x 1 (wide and thin)\n",
    "conv1 = Conv2D(32, (3, 3), activation='relu', padding='same')(input_img) #28 x 28 x 32\n",
    "pool1 = MaxPooling2D(pool_size=(2, 2))(conv1) #14 x 14 x 32\n",
    "conv2 = Conv2D(64, (3, 3), activation='relu', padding='same')(pool1) #14 x 14 x 64\n",
    "pool2 = MaxPooling2D(pool_size=(2, 2))(conv2) #7 x 7 x 64\n",
    "conv3 = Conv2D(128, (3, 3), activation='relu', padding='same')(pool2) #7 x 7 x 128 (small and thick)\n",
    "encoded = MaxPooling2D((2, 2), padding='same')(conv3)\n",
    "\n",
    "#decoder\n",
    "conv4 = Conv2D(128, (3, 3), activation='relu', padding='same')(conv3) #7 x 7 x 128\n",
    "up1 = UpSampling2D((2,2))(conv4) # 14 x 14 x 128\n",
    "conv5 = Conv2D(64, (3, 3), activation='relu', padding='same')(up1) # 14 x 14 x 64\n",
    "up2 = UpSampling2D((2,2))(conv5) # 28 x 28 x 64\n",
    "decoded = Conv2D(1, (3, 3), activation='sigmoid', padding='same')(up2) # 28 x 28 x 1\n",
    "\"\"\""
   ]
  },
  {
   "cell_type": "code",
   "execution_count": 8,
   "metadata": {},
   "outputs": [],
   "source": [
    "autoencoder = Model(input_img, decoded) #autoencoder(input_img))\n",
    "\n",
    "autoencoder.compile(loss='mean_squared_error', optimizer = RMSprop())\n",
    "#autoencoder.compile(optimizer='adadelta', loss='binary_crossentropy')"
   ]
  },
  {
   "cell_type": "code",
   "execution_count": 9,
   "metadata": {},
   "outputs": [
    {
     "name": "stdout",
     "output_type": "stream",
     "text": [
      "_________________________________________________________________\n",
      "Layer (type)                 Output Shape              Param #   \n",
      "=================================================================\n",
      "input_1 (InputLayer)         (None, 28, 28, 1)         0         \n",
      "_________________________________________________________________\n",
      "conv2d_1 (Conv2D)            (None, 28, 28, 16)        160       \n",
      "_________________________________________________________________\n",
      "max_pooling2d_1 (MaxPooling2 (None, 14, 14, 16)        0         \n",
      "_________________________________________________________________\n",
      "conv2d_2 (Conv2D)            (None, 14, 14, 8)         1160      \n",
      "_________________________________________________________________\n",
      "max_pooling2d_2 (MaxPooling2 (None, 7, 7, 8)           0         \n",
      "_________________________________________________________________\n",
      "conv2d_3 (Conv2D)            (None, 7, 7, 8)           584       \n",
      "_________________________________________________________________\n",
      "max_pooling2d_3 (MaxPooling2 (None, 4, 4, 8)           0         \n",
      "_________________________________________________________________\n",
      "conv2d_4 (Conv2D)            (None, 4, 4, 8)           584       \n",
      "_________________________________________________________________\n",
      "up_sampling2d_1 (UpSampling2 (None, 8, 8, 8)           0         \n",
      "_________________________________________________________________\n",
      "conv2d_5 (Conv2D)            (None, 8, 8, 8)           584       \n",
      "_________________________________________________________________\n",
      "up_sampling2d_2 (UpSampling2 (None, 16, 16, 8)         0         \n",
      "_________________________________________________________________\n",
      "conv2d_6 (Conv2D)            (None, 14, 14, 16)        1168      \n",
      "_________________________________________________________________\n",
      "up_sampling2d_3 (UpSampling2 (None, 28, 28, 16)        0         \n",
      "_________________________________________________________________\n",
      "conv2d_7 (Conv2D)            (None, 28, 28, 1)         145       \n",
      "=================================================================\n",
      "Total params: 4,385\n",
      "Trainable params: 4,385\n",
      "Non-trainable params: 0\n",
      "_________________________________________________________________\n"
     ]
    }
   ],
   "source": [
    "autoencoder.summary()"
   ]
  },
  {
   "cell_type": "code",
   "execution_count": 10,
   "metadata": {},
   "outputs": [
    {
     "name": "stdout",
     "output_type": "stream",
     "text": [
      "WARNING:tensorflow:From /home/webvalley/anaconda3/envs/plaque-img/lib/python3.7/site-packages/tensorflow/python/ops/math_ops.py:3066: to_int32 (from tensorflow.python.ops.math_ops) is deprecated and will be removed in a future version.\n",
      "Instructions for updating:\n",
      "Use tf.cast instead.\n",
      "Train on 606 samples, validate on 152 samples\n",
      "Epoch 1/50\n",
      "606/606 [==============================] - 0s 820us/step - loss: 0.0946 - val_loss: 0.0403\n",
      "Epoch 2/50\n",
      "606/606 [==============================] - 0s 433us/step - loss: 0.0324 - val_loss: 0.0300\n",
      "Epoch 3/50\n",
      "606/606 [==============================] - 0s 427us/step - loss: 0.0247 - val_loss: 0.0215\n",
      "Epoch 4/50\n",
      "606/606 [==============================] - 0s 418us/step - loss: 0.0194 - val_loss: 0.0171\n",
      "Epoch 5/50\n",
      "606/606 [==============================] - 0s 423us/step - loss: 0.0153 - val_loss: 0.0143\n",
      "Epoch 6/50\n",
      "606/606 [==============================] - 0s 423us/step - loss: 0.0138 - val_loss: 0.0130\n",
      "Epoch 7/50\n",
      "606/606 [==============================] - 0s 422us/step - loss: 0.0124 - val_loss: 0.0117\n",
      "Epoch 8/50\n",
      "606/606 [==============================] - 0s 417us/step - loss: 0.0109 - val_loss: 0.0107\n",
      "Epoch 9/50\n",
      "606/606 [==============================] - 0s 421us/step - loss: 0.0102 - val_loss: 0.0101\n",
      "Epoch 10/50\n",
      "606/606 [==============================] - 0s 424us/step - loss: 0.0095 - val_loss: 0.0087\n",
      "Epoch 11/50\n",
      "606/606 [==============================] - 0s 434us/step - loss: 0.0085 - val_loss: 0.0101\n",
      "Epoch 12/50\n",
      "606/606 [==============================] - 0s 420us/step - loss: 0.0087 - val_loss: 0.0077\n",
      "Epoch 13/50\n",
      "606/606 [==============================] - 0s 426us/step - loss: 0.0079 - val_loss: 0.0091\n",
      "Epoch 14/50\n",
      "606/606 [==============================] - 0s 426us/step - loss: 0.0080 - val_loss: 0.0073\n",
      "Epoch 15/50\n",
      "606/606 [==============================] - 0s 424us/step - loss: 0.0073 - val_loss: 0.0074\n",
      "Epoch 16/50\n",
      "606/606 [==============================] - 0s 423us/step - loss: 0.0071 - val_loss: 0.0074\n",
      "Epoch 17/50\n",
      "606/606 [==============================] - 0s 420us/step - loss: 0.0072 - val_loss: 0.0077\n",
      "Epoch 18/50\n",
      "606/606 [==============================] - 0s 442us/step - loss: 0.0067 - val_loss: 0.0069\n",
      "Epoch 19/50\n",
      "606/606 [==============================] - 0s 419us/step - loss: 0.0068 - val_loss: 0.0069\n",
      "Epoch 20/50\n",
      "606/606 [==============================] - 0s 427us/step - loss: 0.0064 - val_loss: 0.0068\n",
      "Epoch 21/50\n",
      "606/606 [==============================] - 0s 414us/step - loss: 0.0070 - val_loss: 0.0067\n",
      "Epoch 22/50\n",
      "606/606 [==============================] - 0s 426us/step - loss: 0.0059 - val_loss: 0.0063\n",
      "Epoch 23/50\n",
      "606/606 [==============================] - 0s 426us/step - loss: 0.0065 - val_loss: 0.0066\n",
      "Epoch 24/50\n",
      "606/606 [==============================] - 0s 441us/step - loss: 0.0060 - val_loss: 0.0060\n",
      "Epoch 25/50\n",
      "606/606 [==============================] - 0s 442us/step - loss: 0.0060 - val_loss: 0.0063\n",
      "Epoch 26/50\n",
      "606/606 [==============================] - 0s 448us/step - loss: 0.0061 - val_loss: 0.0059\n",
      "Epoch 27/50\n",
      "606/606 [==============================] - 0s 423us/step - loss: 0.0059 - val_loss: 0.0060\n",
      "Epoch 28/50\n",
      "606/606 [==============================] - 0s 430us/step - loss: 0.0056 - val_loss: 0.0058\n",
      "Epoch 29/50\n",
      "606/606 [==============================] - 0s 434us/step - loss: 0.0060 - val_loss: 0.0062\n",
      "Epoch 30/50\n",
      "606/606 [==============================] - 0s 418us/step - loss: 0.0056 - val_loss: 0.0054\n",
      "Epoch 31/50\n",
      "606/606 [==============================] - 0s 422us/step - loss: 0.0056 - val_loss: 0.0061\n",
      "Epoch 32/50\n",
      "606/606 [==============================] - 0s 420us/step - loss: 0.0055 - val_loss: 0.0053\n",
      "Epoch 33/50\n",
      "606/606 [==============================] - 0s 421us/step - loss: 0.0052 - val_loss: 0.0062\n",
      "Epoch 34/50\n",
      "606/606 [==============================] - 0s 425us/step - loss: 0.0056 - val_loss: 0.0051\n",
      "Epoch 35/50\n",
      "606/606 [==============================] - 0s 421us/step - loss: 0.0052 - val_loss: 0.0057\n",
      "Epoch 36/50\n",
      "606/606 [==============================] - 0s 427us/step - loss: 0.0053 - val_loss: 0.0053\n",
      "Epoch 37/50\n",
      "606/606 [==============================] - 0s 415us/step - loss: 0.0051 - val_loss: 0.0055\n",
      "Epoch 38/50\n",
      "606/606 [==============================] - 0s 428us/step - loss: 0.0052 - val_loss: 0.0054\n",
      "Epoch 39/50\n",
      "606/606 [==============================] - 0s 421us/step - loss: 0.0050 - val_loss: 0.0051\n",
      "Epoch 40/50\n",
      "606/606 [==============================] - 0s 429us/step - loss: 0.0050 - val_loss: 0.0054\n",
      "Epoch 41/50\n",
      "606/606 [==============================] - 0s 430us/step - loss: 0.0051 - val_loss: 0.0050\n",
      "Epoch 42/50\n",
      "606/606 [==============================] - 0s 424us/step - loss: 0.0048 - val_loss: 0.0052\n",
      "Epoch 43/50\n",
      "606/606 [==============================] - 0s 417us/step - loss: 0.0049 - val_loss: 0.0051\n",
      "Epoch 44/50\n",
      "606/606 [==============================] - 0s 424us/step - loss: 0.0047 - val_loss: 0.0051\n",
      "Epoch 45/50\n",
      "606/606 [==============================] - 0s 427us/step - loss: 0.0050 - val_loss: 0.0051\n",
      "Epoch 46/50\n",
      "606/606 [==============================] - 0s 418us/step - loss: 0.0047 - val_loss: 0.0048\n",
      "Epoch 47/50\n",
      "606/606 [==============================] - 0s 430us/step - loss: 0.0048 - val_loss: 0.0048\n",
      "Epoch 48/50\n",
      "606/606 [==============================] - 0s 419us/step - loss: 0.0044 - val_loss: 0.0049\n",
      "Epoch 49/50\n",
      "606/606 [==============================] - 0s 431us/step - loss: 0.0047 - val_loss: 0.0049\n",
      "Epoch 50/50\n",
      "606/606 [==============================] - 0s 421us/step - loss: 0.0046 - val_loss: 0.0047\n"
     ]
    }
   ],
   "source": [
    "autoencoder_train = autoencoder.fit(x_train, x_train,\n",
    "                                    batch_size=batch_size,\n",
    "                                    epochs=epochs,\n",
    "                                    verbose=1,\n",
    "                                    validation_data=(x_val, x_val)\n",
    "                                   )\n"
   ]
  },
  {
   "cell_type": "code",
   "execution_count": 11,
   "metadata": {},
   "outputs": [
    {
     "data": {
      "image/png": "[encoded data removed]",
      "text/plain": [
       "<Figure size 432x288 with 1 Axes>"
      ]
     },
     "metadata": {
      "needs_background": "light"
     },
     "output_type": "display_data"
    }
   ],
   "source": [
    "loss = autoencoder_train.history['loss']\n",
    "val_loss = autoencoder_train.history['val_loss']\n",
    "epochs = range(epochs)\n",
    "plt.figure()\n",
    "plt.plot(epochs, loss, 'bo', label='Training loss')\n",
    "plt.plot(epochs, val_loss, 'b', label='Validation loss')\n",
    "plt.title('Training and validation loss')\n",
    "plt.legend()\n",
    "plt.show()\n"
   ]
  },
  {
   "cell_type": "code",
   "execution_count": 12,
   "metadata": {},
   "outputs": [],
   "source": [
    "pred = autoencoder.predict(x_test)"
   ]
  },
  {
   "cell_type": "code",
   "execution_count": 13,
   "metadata": {},
   "outputs": [
    {
     "data": {
      "text/plain": [
       "(89, 28, 28, 1)"
      ]
     },
     "execution_count": 13,
     "metadata": {},
     "output_type": "execute_result"
    }
   ],
   "source": [
    "pred.shape"
   ]
  },
  {
   "cell_type": "code",
   "execution_count": 14,
   "metadata": {},
   "outputs": [
    {
     "data": {
      "image/png": "[encoded data removed]",
      "text/plain": [
       "<Figure size 432x288 with 1 Axes>"
      ]
     },
     "metadata": {
      "needs_background": "light"
     },
     "output_type": "display_data"
    }
   ],
   "source": [
    "plt.imshow(pred[1, ..., 0], cmap='gray')\n",
    "plt.show()"
   ]
  },
  {
   "cell_type": "code",
   "execution_count": 15,
   "metadata": {},
   "outputs": [],
   "source": [
    "label_conv = {\n",
    "    0: 'Calcific',\n",
    "    1: 'Fibrous'\n",
    "}"
   ]
  },
  {
   "cell_type": "code",
   "execution_count": 16,
   "metadata": {},
   "outputs": [
    {
     "name": "stdout",
     "output_type": "stream",
     "text": [
      "Test Images\n"
     ]
    },
    {
     "data": {
      "image/png": "[encoded data removed]",
      "text/plain": [
       "<Figure size 1440x288 with 10 Axes>"
      ]
     },
     "metadata": {
      "needs_background": "light"
     },
     "output_type": "display_data"
    },
    {
     "name": "stdout",
     "output_type": "stream",
     "text": [
      "Reconstruction of Test Images\n"
     ]
    },
    {
     "data": {
      "image/png": "[encoded data removed]",
      "text/plain": [
       "<Figure size 1440x288 with 10 Axes>"
      ]
     },
     "metadata": {
      "needs_background": "light"
     },
     "output_type": "display_data"
    }
   ],
   "source": [
    "plt.figure(figsize=(20, 4))\n",
    "print(\"Test Images\")\n",
    "for i in range(10):\n",
    "    plt.subplot(2, 10, i+1)\n",
    "    plt.imshow(x_test[i, ..., 0], cmap='gray')\n",
    "    curr_lbl = y_test[i]\n",
    "    plt.title(\"(Label: \" + label_conv[curr_lbl] + \")\")\n",
    "\n",
    "plt.show()    \n",
    "plt.figure(figsize=(20, 4))\n",
    "print(\"Reconstruction of Test Images\")\n",
    "for i in range(10):\n",
    "    plt.subplot(2, 10, i+1)\n",
    "    plt.imshow(pred[i, ..., 0], cmap='gray')  \n",
    "plt.show()"
   ]
  },
  {
   "cell_type": "code",
   "execution_count": 17,
   "metadata": {},
   "outputs": [],
   "source": [
    "sess = K.get_session()"
   ]
  },
  {
   "cell_type": "code",
   "execution_count": 18,
   "metadata": {},
   "outputs": [
    {
     "data": {
      "text/plain": [
       "array([], dtype=float64)"
      ]
     },
     "execution_count": 18,
     "metadata": {},
     "output_type": "execute_result"
    }
   ],
   "source": [
    "np.array([])"
   ]
  },
  {
   "cell_type": "code",
   "execution_count": 19,
   "metadata": {},
   "outputs": [
    {
     "ename": "AttributeError",
     "evalue": "'Tensor' object has no attribute 'numpy'",
     "output_type": "error",
     "traceback": [
      "\u001b[0;31m---------------------------------------------------------------------------\u001b[0m",
      "\u001b[0;31mAttributeError\u001b[0m                            Traceback (most recent call last)",
      "\u001b[0;32m<ipython-input-19-3c343a22d198>\u001b[0m in \u001b[0;36m<module>\u001b[0;34m\u001b[0m\n\u001b[0;32m----> 1\u001b[0;31m \u001b[0mencoded\u001b[0m\u001b[0;34m.\u001b[0m\u001b[0mnumpy\u001b[0m\u001b[0;34m(\u001b[0m\u001b[0;34m)\u001b[0m\u001b[0;34m\u001b[0m\u001b[0;34m\u001b[0m\u001b[0m\n\u001b[0m",
      "\u001b[0;31mAttributeError\u001b[0m: 'Tensor' object has no attribute 'numpy'"
     ]
    }
   ],
   "source": [
    "encoded.numpy()"
   ]
  },
  {
   "cell_type": "code",
   "execution_count": null,
   "metadata": {},
   "outputs": [],
   "source": []
  },
  {
   "cell_type": "code",
   "execution_count": null,
   "metadata": {},
   "outputs": [],
   "source": []
  },
  {
   "cell_type": "code",
   "execution_count": null,
   "metadata": {},
   "outputs": [],
   "source": []
  }
 ],
 "metadata": {
  "kernelspec": {
   "display_name": "Python 3",
   "language": "python",
   "name": "python3"
  },
  "language_info": {
   "codemirror_mode": {
    "name": "ipython",
    "version": 3
   },
   "file_extension": ".py",
   "mimetype": "text/x-python",
   "name": "python",
   "nbconvert_exporter": "python",
   "pygments_lexer": "ipython3",
   "version": "3.7.3"
  }
 },
 "nbformat": 4,
 "nbformat_minor": 2
}
