{
 "cells": [
  {
   "cell_type": "code",
   "execution_count": null,
   "metadata": {},
   "outputs": [],
   "source": [
    "%matplotlib inline\n",
    "import matplotlib.pyplot as plt\n",
    "import numpy as np\n",
    "import os, sys\n",
    "import pandas as pd\n",
    "import time\n",
    "from skimage import exposure\n",
    "\n",
    "import keras\n",
    "from keras import optimizers\n",
    "\n",
    "from keras.layers import Input, Dense, Lambda, Flatten, Reshape\n",
    "from keras.layers import Conv2D, Conv2DTranspose, Cropping2D\n",
    "from keras.models import Sequential, Model\n",
    "import tensorflow as tf\n",
    "from keras.models import load_model\n",
    "from itertools import zip_longest"
   ]
  },
  {
   "cell_type": "code",
   "execution_count": null,
   "metadata": {},
   "outputs": [],
   "source": [
    "PREPRO_FOLDER = '/media/datadrive1/kaggle-preprocs/'\n",
    "MASK_FOLDER = '/media/datadrive1/kaggle-preprocs/mask_2D_50'\n",
    "ENCODED_FOLDER = '/media/datadrive1/kaggle-preprocs/mask_2D_50/encoded/'\n",
    "\n",
    "minHU = -1000\n",
    "maxHU = 400\n",
    "\n",
    "BLOCK_SIZE = 128\n",
    "BATCH_SIZE = 10"
   ]
  },
  {
   "cell_type": "code",
   "execution_count": null,
   "metadata": {},
   "outputs": [],
   "source": [
    "lungs_info = pd.read_csv(os.path.join(PREPRO_FOLDER, 's1_metadata_with_label.csv'), index_col=0)\n",
    "lungs_info.sort_values('cancer', ascending=False, inplace=True)"
   ]
  },
  {
   "cell_type": "code",
   "execution_count": null,
   "metadata": {},
   "outputs": [],
   "source": [
    "def read_mask(patient_info):\n",
    "    patient_id = patient_info[0]\n",
    "    mask_file = np.fromfile(os.path.join(MASK_FOLDER, patient_id+'_mask.bin'), np.int16).reshape((-1, BLOCK_SIZE, BLOCK_SIZE))\n",
    "    mask_file = mask_file[::10]\n",
    "    return mask_file"
   ]
  },
  {
   "cell_type": "code",
   "execution_count": null,
   "metadata": {},
   "outputs": [],
   "source": [
    "from multiprocessing.pool import ThreadPool\n",
    "from collections import OrderedDict\n",
    "\n",
    "#parallel threads\n",
    "size=100\n",
    "\n",
    "if not os.path.exists(MASK_FOLDER):\n",
    "    os.makedirs(MASK_FOLDER)\n",
    "\n",
    "with ThreadPool(size) as p:\n",
    "    all_masks = p.map(read_mask, lungs_info.itertuples())\n",
    "    patient_data = OrderedDict(zip(list(lungs_info.index), all_masks))\n",
    "    all_masks = np.concatenate(all_masks)"
   ]
  },
  {
   "cell_type": "code",
   "execution_count": null,
   "metadata": {},
   "outputs": [],
   "source": [
    "all_masks.shape"
   ]
  },
  {
   "cell_type": "code",
   "execution_count": null,
   "metadata": {},
   "outputs": [],
   "source": [
    "# input image dimensions\n",
    "img_rows, img_cols, img_chns = BLOCK_SIZE, BLOCK_SIZE, 1\n",
    "# number of convolutional filters to use\n",
    "NB_FILTERS = 16\n",
    "# convolution kernel size\n",
    "KERNEL_SIZE = (3, 3)\n",
    "\n",
    "original_img_size = (img_rows, img_cols, img_chns)\n",
    "\n",
    "LATENT_DIM = 128\n",
    "INTERMEDIATE_DIM = 256\n",
    "NB_EPOCHS = 100\n",
    "\n",
    "\n",
    "input_layer = Input(shape=original_img_size)\n",
    "conv_1 = Conv2D(img_chns, kernel_size=(2, 2), padding='same', activation='relu')(input_layer)\n",
    "conv_2 = Conv2D(NB_FILTERS, kernel_size=(2, 2),\n",
    "                       padding='same', activation='relu',\n",
    "                       strides=(2, 2))(conv_1)\n",
    "conv_3 = Conv2D(NB_FILTERS, KERNEL_SIZE,\n",
    "                       padding='same', activation='relu',\n",
    "                       strides=(1, 1))(conv_2)\n",
    "conv_4 = Conv2D(NB_FILTERS, KERNEL_SIZE,\n",
    "                       padding='same', activation='relu',\n",
    "                       strides=(1, 1))(conv_3)\n",
    "flat = Reshape((-1,))(conv_4)\n",
    "hidden = Dense(INTERMEDIATE_DIM, activation='relu')(flat)\n",
    "\n",
    "z = Dense(LATENT_DIM)(hidden)\n",
    "\n",
    "decoder_hid = Dense(INTERMEDIATE_DIM, activation='relu')\n",
    "decoder_upsample = Dense(NB_FILTERS * img_rows//2 * img_rows//2, activation='relu')\n",
    "\n",
    "decoder_reshape = Reshape((img_rows//2, img_rows//2, NB_FILTERS))\n",
    "decoder_deconv_1 = Conv2DTranspose(NB_FILTERS, KERNEL_SIZE,\n",
    "                                   padding='same',\n",
    "                                   strides=(1, 1),\n",
    "                                   activation='relu')\n",
    "decoder_deconv_2 = Conv2DTranspose(NB_FILTERS, KERNEL_SIZE,\n",
    "                                   padding='same',\n",
    "                                   strides=(1, 1),\n",
    "                                   activation='relu')\n",
    "\n",
    "decoder_deconv_3_upsamp = Conv2DTranspose(NB_FILTERS, kernel_size=(2, 2),\n",
    "                                          padding='valid',\n",
    "                                          strides=(2, 2),\n",
    "                                          activation='relu')\n",
    "decoder_mean_squash = Conv2D(img_chns, kernel_size=(1, 1),\n",
    "                                    padding='valid',\n",
    "                                    activation='sigmoid')\n",
    "\n",
    "hid_decoded = decoder_hid(z)\n",
    "up_decoded = decoder_upsample(hid_decoded)\n",
    "reshape_decoded = decoder_reshape(up_decoded)\n",
    "deconv_1_decoded = decoder_deconv_1(reshape_decoded)\n",
    "deconv_2_decoded = decoder_deconv_2(deconv_1_decoded)\n",
    "x_decoded_relu = decoder_deconv_3_upsamp(deconv_2_decoded)\n",
    "x_decoded_mean_squash = decoder_mean_squash(x_decoded_relu)\n",
    "\n",
    "ae = Model(input_layer, x_decoded_mean_squash)\n",
    "ae.compile(optimizer='rmsprop', loss='mean_squared_error')\n",
    "ae.summary()\n",
    "\n",
    "encoder = Model(inputs=ae.input,outputs=z)"
   ]
  },
  {
   "cell_type": "code",
   "execution_count": null,
   "metadata": {},
   "outputs": [],
   "source": [
    "def batch_generator(data, batch_size=32):\n",
    "    samples = len(data)\n",
    "    while True:\n",
    "        idxes = np.arange(samples)\n",
    "        np.random.shuffle(idxes)\n",
    "        batch = np.copy(data[idxes[:batch_size]])\n",
    "        batch = (batch - minHU) / (maxHU - minHU)\n",
    "        for i,samp in enumerate(batch):\n",
    "            batch[i] = exposure.equalize_adapthist(samp)\n",
    "        batch = np.expand_dims(batch, 3)\n",
    "        yield batch, batch"
   ]
  },
  {
   "cell_type": "code",
   "execution_count": null,
   "metadata": {},
   "outputs": [],
   "source": [
    "ae.load_weights(os.path.join(MASK_FOLDER, 'kaggle_128.h5'))"
   ]
  },
  {
   "cell_type": "code",
   "execution_count": null,
   "metadata": {},
   "outputs": [],
   "source": [
    "ae.fit_generator(batch_generator(all_masks, BATCH_SIZE),\n",
    "                 steps_per_epoch = 2000, \n",
    "#                  steps_per_epoch = len(all_masks)//BATCH_SIZE, \n",
    "                 epochs = 100,\n",
    "                 verbose = 1)\n",
    "ae.save(os.path.join(MASK_FOLDER, 'kaggle_128.h5'))"
   ]
  },
  {
   "cell_type": "code",
   "execution_count": null,
   "metadata": {},
   "outputs": [],
   "source": [
    "prova = next(batch_generator(all_masks, BATCH_SIZE))\n",
    "provaae = ae.predict(prova[0])"
   ]
  },
  {
   "cell_type": "code",
   "execution_count": null,
   "metadata": {},
   "outputs": [],
   "source": [
    "for i in range(5):\n",
    "    plt.figure(figsize=(12,12))\n",
    "    plt.subplot(121)\n",
    "    plt.imshow(prova[0][i,:,:,0], cmap=plt.cm.gray, vmin=0, vmax=1)\n",
    "    plt.subplot(122)\n",
    "#    plt.imshow(batch[i][:,:,0], cmap=plt.cm.gray, vmin=0, vmax=1)\n",
    "    plt.imshow(provaae[i,:,:,0], cmap=plt.cm.gray, vmin=0, vmax=1)\n",
    "    plt.show()"
   ]
  },
  {
   "cell_type": "code",
   "execution_count": null,
   "metadata": {},
   "outputs": [],
   "source": []
  },
  {
   "cell_type": "code",
   "execution_count": null,
   "metadata": {},
   "outputs": [],
   "source": [
    "if not os.path.exists(ENCODED_FOLDER):\n",
    "    os.makedirs(ENCODED_FOLDER)\n",
    "\n",
    "for patient_id in lungs_info.index:\n",
    "    blocks_of_patient = patient_data[patient_id]\n",
    "    processed_data = next(batch_generator(blocks_of_patient, len(blocks_of_patient)))[0]\n",
    "    encoded = encoder.predict(processed_data)\n",
    "    np.savetxt(os.path.join(ENCODED_FOLDER, patient_id+'_encoded.dat'), encoded, fmt='%12.8f')"
   ]
  },
  {
   "cell_type": "code",
   "execution_count": null,
   "metadata": {},
   "outputs": [],
   "source": [
    "prova = next(batch_generator(all_masks, BATCH_SIZE))"
   ]
  },
  {
   "cell_type": "code",
   "execution_count": null,
   "metadata": {},
   "outputs": [],
   "source": [
    "ae.load_weights('kaggle_128.h5')"
   ]
  },
  {
   "cell_type": "code",
   "execution_count": null,
   "metadata": {},
   "outputs": [],
   "source": []
  }
 ],
 "metadata": {
  "kernelspec": {
   "display_name": "Python 3",
   "language": "python",
   "name": "python3"
  },
  "language_info": {
   "codemirror_mode": {
    "name": "ipython",
    "version": 3
   },
   "file_extension": ".py",
   "mimetype": "text/x-python",
   "name": "python",
   "nbconvert_exporter": "python",
   "pygments_lexer": "ipython3",
   "version": "3.7.3"
  }
 },
 "nbformat": 4,
 "nbformat_minor": 2
}
