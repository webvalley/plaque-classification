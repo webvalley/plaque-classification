{
 "cells": [
  {
   "cell_type": "code",
   "execution_count": null,
   "metadata": {},
   "outputs": [],
   "source": [
    "import cv2\n",
    "import pandas as pd\n",
    "from matplotlib import pyplot as plt\n",
    "import os"
   ]
  },
  {
   "cell_type": "code",
   "execution_count": null,
   "metadata": {},
   "outputs": [],
   "source": [
    "df = pd.read_csv('CSVs/conv_D5A8ABQ0.csv')\n",
    "df.head()\n"
   ]
  },
  {
   "cell_type": "code",
   "execution_count": null,
   "metadata": {},
   "outputs": [],
   "source": [
    "img = cv2.imread('Data/Raw/conv_D5G9CI1E.png')\n",
    "plt.imshow(img)\n",
    "plt.show()\n",
    "\n",
    "\n",
    "for i in img:\n",
    "    for j in i:\n",
    "        print(j)\n",
    "    print(\"\\n\")"
   ]
  },
  {
   "cell_type": "code",
   "execution_count": null,
   "metadata": {},
   "outputs": [],
   "source": [
    "for fn in os.listdir('Data/Raw'):\n",
    "    print(fn)\n",
    "\n",
    "    for index, row in df.iterrows():\n",
    "        if row['name'] != 'Total carotid':\n",
    "            \n",
    "            img = cv2.imread(f'Data/Raw/{fn}')\n",
    "            if row['name'] == 'Calcified Tissue':\n",
    "                bb_col = (255, 0 , 0) # Red\n",
    "            elif row['name'] == 'Fibrous Tissue':\n",
    "                bb_col = (0, 0, 255) # Blue\n",
    "            elif row['name'] == 'Lipid Core':\n",
    "                bb_col = (0, 255, 0) # Green\n",
    "            #cv2.rectangle(img, (row['xmin'], row['ymin']), (row['xmax'], row['ymax']), bb_col, 2)\n",
    "\n",
    "            ymin = int(row['ymin'])\n",
    "            ymax = int(row['ymax'])\n",
    "            xmin = int(row['xmin'])\n",
    "            xmax = int(row['xmax'])\n",
    "\n",
    "            if img is not None:\n",
    "                plaque = img[ymin:ymax,xmin:xmax]\n",
    "                #plaque = img[row['ymin']:row['ymax'], row['xmin']:row['max']]\n",
    "\n",
    "                plt.imshow(plaque)\n",
    "                plt.show()\n",
    "                name = fn.split('/')[-1].replace('.png', '')\n",
    "                print(name)\n",
    "\n",
    "                file_name_location = f'Data/Patches/sagittal_{name}.png'\n",
    "                cv2.imwrite(file_name_location, plaque)\n",
    "            \n",
    "    "
   ]
  },
  {
   "cell_type": "code",
   "execution_count": null,
   "metadata": {},
   "outputs": [],
   "source": [
    "img_name = 'sagittal'\n",
    "img = None\n",
    "curr = ''\n",
    "bb = []\n",
    "n = 1\n",
    "\n",
    "\n",
    "for index, row in df.iterrows():\n",
    "    if curr != row['image_names']:\n",
    "        if curr != '':#if it's not the first time\n",
    "            for i in range(3, 51): \n",
    "                print(f'{img_name}{i}.png', 'bounding box:', n)\n",
    "                img = cv2.imread(f'Data/Raw/{img_name}{i}.png') \n",
    "                for box in bb:\n",
    "                    cv2.rectangle(img, (box[0], box[1]), (box[2], box[3]), (255,0,0), 2)\n",
    "                plt.imshow(img)\n",
    "                plt.show()\n",
    "            n += 1\n",
    "            bb = []\n",
    "        curr = row['image_names']\n",
    "    bb.append((row['xmin'], row['ymin'], row['xmax'], row['ymax']))\n",
    "        \n",
    "    \n",
    "    "
   ]
  },
  {
   "cell_type": "code",
   "execution_count": null,
   "metadata": {},
   "outputs": [],
   "source": [
    "for fn in os.listdir('Data/Doppler'):\n",
    "    name = fn.replace('.png', '')\n",
    "    os.system(f'mv CSVs/{name}.csv Data/Doppler')"
   ]
  },
  {
   "cell_type": "code",
   "execution_count": null,
   "metadata": {},
   "outputs": [],
   "source": []
  }
 ],
 "metadata": {
  "kernelspec": {
   "display_name": "Python 3",
   "language": "python",
   "name": "python3"
  },
  "language_info": {
   "codemirror_mode": {
    "name": "ipython",
    "version": 3
   },
   "file_extension": ".py",
   "mimetype": "text/x-python",
   "name": "python",
   "nbconvert_exporter": "python",
   "pygments_lexer": "ipython3",
   "version": "3.7.3"
  }
 },
 "nbformat": 4,
 "nbformat_minor": 2
}
