{
 "cells": [
  {
   "cell_type": "code",
   "execution_count": null,
   "metadata": {},
   "outputs": [],
   "source": [
    "import csv\n",
    "import glob\n",
    "import os\n",
    "filepath = 'train.csv' \n",
    "csv = open(filepath, \"w\")  \n",
    "columnTitleRow = \"iamge_name, label\"\n",
    "csv.write(columnTitleRow) \n",
    "\n",
    "for fn in glob.glob(os.path.join(\"/data3/wv2019/data/processed/PLIC_MILANO_PNG_CROPPED_V4/PLAQUE1\", \"*\", \"*\", \"*\"), recursive=True):\n",
    "    filename = fn.replace('/data3/wv2019/data/processed/PLIC_MILANO_PNG_CROPPED_V4/PLAQUE1/PLIC', '') \n",
    "    \n",
    "    classification = 'plaque' \n",
    "    row = fn + ',' + classification + '\\n' \n",
    "    csv.write(row) \n",
    "\n",
    "    \n",
    "     \n",
    "    \n",
    "\n",
    "    "
   ]
  },
  {
   "cell_type": "code",
   "execution_count": null,
   "metadata": {},
   "outputs": [],
   "source": []
  }
 ],
 "metadata": {
  "kernelspec": {
   "display_name": "Python 3",
   "language": "python",
   "name": "python3"
  },
  "language_info": {
   "codemirror_mode": {
    "name": "ipython",
    "version": 3
   },
   "file_extension": ".py",
   "mimetype": "text/x-python",
   "name": "python",
   "nbconvert_exporter": "python",
   "pygments_lexer": "ipython3",
   "version": "3.7.3"
  }
 },
 "nbformat": 4,
 "nbformat_minor": 2
}
