{
 "cells": [
  {
   "cell_type": "code",
   "execution_count": null,
   "metadata": {},
   "outputs": [],
   "source": [
    "import cv2\n",
    "import pandas as pd\n",
    "from matplotlib import pyplot as plt"
   ]
  },
  {
   "cell_type": "code",
   "execution_count": null,
   "metadata": {},
   "outputs": [],
   "source": [
    "img = cv2.imread(\"Data/Raw/sagittal1.png\")"
   ]
  },
  {
   "cell_type": "code",
   "execution_count": null,
   "metadata": {},
   "outputs": [],
   "source": [
    "df = pd.read_csv('Sagittal_Total.csv')\n",
    "for index,row in df.iterrows():\n",
    "    if row['image_names'] != 'sagittal1.png' and row['image_names'] != 'sagittal2.png':\n",
    "        num_png = row['image_names'].replace('sagittal', '') \n",
    "        num = int(num_png.replace('.png', '')) \n",
    "        row['image_names'] = f'sagittal{num+1}.png' \n",
    "df"
   ]
  },
  {
   "cell_type": "code",
   "execution_count": null,
   "metadata": {},
   "outputs": [],
   "source": [
    "img_name = 'sagittal'\n",
    "img = None\n",
    "curr = ''\n",
    "bb = []\n",
    "n = 1\n",
    "for index, row in df.iterrows():\n",
    "    if curr != row['image_names']:\n",
    "        if curr != '':#if it's not the first time\n",
    "            for i in range(3, 51): \n",
    "                print(f'{img_name}{i}.png', 'bounding box:', n)\n",
    "                img = cv2.imread(f'Data/Raw/{img_name}{i}.png') \n",
    "                for box in bb:\n",
    "                    cv2.rectangle(img, (box[0], box[1]), (box[2], box[3]), (255,0,0), 2)\n",
    "                plt.imshow(img)\n",
    "                plt.show()\n",
    "            n += 1\n",
    "            bb = []\n",
    "        curr = row['image_names']\n",
    "    bb.append((row['xmin'], row['ymin'], row['xmax'], row['ymax']))\n",
    "        \n",
    "    \n",
    "    "
   ]
  },
  {
   "cell_type": "code",
   "execution_count": null,
   "metadata": {},
   "outputs": [],
   "source": [
    "img_name = ''\n",
    "img = None\n",
    "for index, row in df.iterrows():\n",
    "    if img_name != row['image_names']:\n",
    "        if img_name != '':\n",
    "            print(img_name)\n",
    "            plt.imshow(img)\n",
    "            plt.show()\n",
    "        img_name = row['image_names']\n",
    "        img = cv2.imread(f'Data/Raw/{img_name}') \n",
    "    \n",
    "    if row['composition'] == 'Calcified Tissue':\n",
    "        bb_col = (255, 0 , 0) # Red\n",
    "    elif row['composition'] == 'Fibrous Tissue':\n",
    "        bb_col = (0, 0, 255) # Blue\n",
    "    elif row['composition'] == 'Lipid Core':\n",
    "        bb_col = (0, 255, 0) # Green\n",
    "    cv2.rectangle(img, (row['xmin'], row['ymin']), (row['xmax'], row['ymax']), bb_col, 2)\n",
    "    "
   ]
  },
  {
   "cell_type": "code",
   "execution_count": null,
   "metadata": {},
   "outputs": [],
   "source": []
  }
 ],
 "metadata": {
  "kernelspec": {
   "display_name": "Python 3",
   "language": "python",
   "name": "python3"
  },
  "language_info": {
   "codemirror_mode": {
    "name": "ipython",
    "version": 3
   },
   "file_extension": ".py",
   "mimetype": "text/x-python",
   "name": "python",
   "nbconvert_exporter": "python",
   "pygments_lexer": "ipython3",
   "version": "3.7.3"
  }
 },
 "nbformat": 4,
 "nbformat_minor": 2
}
